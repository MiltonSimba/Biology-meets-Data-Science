{
 "metadata": {
  "language_info": {
   "codemirror_mode": {
    "name": "ipython",
    "version": 3
   },
   "file_extension": ".py",
   "mimetype": "text/x-python",
   "name": "python",
   "nbconvert_exporter": "python",
   "pygments_lexer": "ipython3",
   "version": "3.9.2-final"
  },
  "orig_nbformat": 2,
  "kernelspec": {
   "name": "python392jvsc74a57bd011f1dc213e07634baa4c5c321dec03c05dafae643c50f20e6d1a492290c05dc2",
   "display_name": "Python 3.9.2 64-bit"
  },
  "metadata": {
   "interpreter": {
    "hash": "11f1dc213e07634baa4c5c321dec03c05dafae643c50f20e6d1a492290c05dc2"
   }
  }
 },
 "nbformat": 4,
 "nbformat_minor": 2,
 "cells": [
  {
   "cell_type": "code",
   "execution_count": 3,
   "metadata": {},
   "outputs": [
    {
     "output_type": "stream",
     "name": "stdout",
     "text": [
      "big apple\nbig banana\nbig cherry\ntasty apple\ntasty banana\ntasty cherry\nred apple\nred banana\nred cherry\n"
     ]
    }
   ],
   "source": [
    "adj = [ 'big','tasty','red']\r\n",
    "fruits = ['apple','banana','cherry']\r\n",
    "\r\n",
    "for x in adj:\r\n",
    "    for y in fruits:\r\n",
    "        print (x,y)\r\n",
    "    \r\n"
   ]
  },
  {
   "cell_type": "code",
   "execution_count": 5,
   "metadata": {},
   "outputs": [
    {
     "output_type": "stream",
     "name": "stdout",
     "text": [
      "I'm hello funtion\n"
     ]
    }
   ],
   "source": [
    "def hello_function():\n",
    "    print (\"I'm hello funtion\")\n",
    "\n",
    "hello_function()"
   ]
  },
  {
   "cell_type": "code",
   "execution_count": 8,
   "metadata": {},
   "outputs": [
    {
     "output_type": "stream",
     "name": "stdout",
     "text": [
      "Milton  Refynes\nSimba  Refynes\nCathrine Refynes\n"
     ]
    }
   ],
   "source": [
    "def my_function(fname):\n",
    "    print (fname + ' Refynes')\n",
    "\n",
    "my_function('Milton ')\n",
    "my_function('Simba ')\n",
    "my_function('Cathrine')"
   ]
  },
  {
   "cell_type": "code",
   "execution_count": 12,
   "metadata": {},
   "outputs": [
    {
     "output_type": "stream",
     "name": "stdout",
     "text": [
      "apple\nbanana\ncherry\n"
     ]
    }
   ],
   "source": [
    "def my_functions(food):\n",
    "    for x in food:\n",
    "        print (x)\n",
    "\n",
    "\n",
    "my_functions(fruits)"
   ]
  },
  {
   "cell_type": "code",
   "execution_count": 15,
   "metadata": {},
   "outputs": [
    {
     "output_type": "stream",
     "name": "stdout",
     "text": [
      "15\n25\n45\n"
     ]
    }
   ],
   "source": [
    "#Return value\n",
    "def my_function(x):\n",
    "    return 5* x\n",
    "\n",
    "\n",
    "print (my_function(3))\n",
    "print (my_function(5))\n",
    "print (my_function(9))"
   ]
  },
  {
   "cell_type": "code",
   "execution_count": 27,
   "metadata": {},
   "outputs": [
    {
     "output_type": "stream",
     "name": "stdout",
     "text": [
      "7293\nSeqRecord(seq=Seq('AGATTTCCTAATATTACAAACTTGTGCCCTTTTGGTGAAGTTTTTAACGCCACC...TCC'), id='Example:', name='Example:', description=' Example:', dbxrefs=[])\n"
     ]
    }
   ],
   "source": [
    "from Bio import SeqIO\n",
    "\n",
    "zim_tail = SeqIO.read('zimcovTail.fasta','fasta')\n",
    "\n",
    "print (len(zim_tail))\n",
    "print (repr(zim_tail))"
   ]
  },
  {
   "cell_type": "code",
   "execution_count": 43,
   "metadata": {},
   "outputs": [
    {
     "output_type": "stream",
     "name": "stdout",
     "text": [
      "\nYou're doing good work, Milton\nThank you very much for your efforts on this project\n\nYou're doing good work, Simbarashe\nThank you very much for your efforts on this project\n\nYou're doing good work, Kambarami\nThank you very much for your efforts on this project\n"
     ]
    }
   ],
   "source": [
    "def thank_you(name):\n",
    "    # print (\"You're doing good work, \" + name)\n",
    "    print (f\"\\nYou're doing good work, {name}\")          #The Millaz Way\n",
    "    print ('Thank you very much for your efforts on this project')\n",
    "\n",
    "thank_you('Milton')\n",
    "thank_you('Simbarashe')\n",
    "\n",
    "surname = 'Kambarami'\n",
    "thank_you (surname)"
   ]
  },
  {
   "cell_type": "code",
   "execution_count": 46,
   "metadata": {},
   "outputs": [
    {
     "output_type": "stream",
     "name": "stdout",
     "text": [
      "zero\none\ntwo\nnumber not in base 3\n"
     ]
    }
   ],
   "source": [
    "def print_number(number):\n",
    "    if number == 1: print ('one')\n",
    "    elif number == 2: print ('two')\n",
    "    elif number == 0: print ('zero')\n",
    "    else: print ('number not in base 3')\n",
    "\n",
    "\n",
    "for number in range (4):\n",
    "    print_number(number)"
   ]
  },
  {
   "cell_type": "code",
   "execution_count": null,
   "metadata": {},
   "outputs": [],
   "source": []
  }
 ]
}