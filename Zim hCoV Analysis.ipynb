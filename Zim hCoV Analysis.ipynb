{
 "cells": [
  {
   "cell_type": "code",
   "execution_count": 7,
   "metadata": {},
   "outputs": [],
   "source": [
    "def spike_gene_cutter():\n",
    "    \n",
    " \n",
    "    from Bio import Seq            #Seq module allows us to manipulate biological sequences\n",
    "    \n",
    "    # This section allws the user to enter the filename and format:\n",
    "\n",
    "    input_file = input ('Enter full \"input\" filename eg input_file.fasta: ')\n",
    "    file_format = input ('Enter \"file format\" eg fasta: ')\n",
    "    output_file = input ('Enter full \"output\" filename eg output_file.fasta: ')\n",
    "\n",
    "hcov = SeqIO.parse (input_file , file_format)  \n",
    "# for clarificication 'hcov' is short for 'human Coronavirus'\n",
    "   \n",
    "    for record in hcov:\n",
    "        spike_gene = record [21500:24]      #this for..loop is necessitating extraction of the approximate Spike gene for every sequence in the input file.\n",
    "        return spike_gene\n",
    "\n",
    "    SeqIO.write (spike_gene , output_file, file_format)        #the result is written in the output file\n",
    "    spike_cutter_result = SeqIO.parse (output_file, file_format)\n",
    "\n",
    "    for sequence in spike_cutter_result:\n",
    "        print(len (sequence))                #this is a follow up procedure to print the result and show the user whether the sequences have been successfully excised\n",
    "        print (sequence.id)\n",
    "        print (repr (sequence.seq))\n",
    "    "
   ]
  },
  {
   "cell_type": "code",
   "execution_count": 19,
   "metadata": {},
   "outputs": [
    {
     "name": "stdout",
     "output_type": "stream",
     "text": [
      "3000\n"
     ]
    }
   ],
   "source": []
  },
  {
   "source": [],
   "cell_type": "markdown",
   "metadata": {}
  }
 ],
 "metadata": {
  "kernelspec": {
   "name": "python392jvsc74a57bd011f1dc213e07634baa4c5c321dec03c05dafae643c50f20e6d1a492290c05dc2",
   "display_name": "Python 3.9.2 64-bit"
  },
  "language_info": {
   "codemirror_mode": {
    "name": "ipython",
    "version": 3
   },
   "file_extension": ".py",
   "mimetype": "text/x-python",
   "name": "python",
   "nbconvert_exporter": "python",
   "pygments_lexer": "ipython3",
   "version": "3.9.2-final"
  },
  "metadata": {
   "interpreter": {
    "hash": "11f1dc213e07634baa4c5c321dec03c05dafae643c50f20e6d1a492290c05dc2"
   }
  }
 },
 "nbformat": 4,
 "nbformat_minor": 4
}