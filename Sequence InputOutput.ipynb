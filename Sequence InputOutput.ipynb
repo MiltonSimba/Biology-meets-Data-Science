{
 "cells": [
  {
   "cell_type": "code",
   "execution_count": null,
   "metadata": {
    "scrolled": false
   },
   "outputs": [],
   "source": [
    "from Bio import SeqIO\n"
   ]
  },
  {
   "cell_type": "code",
   "execution_count": null,
   "metadata": {
    "tags": [
     "outputPrepend"
    ]
   },
   "outputs": [],
   "source": [
    "help(SeqIO)\n",
    "#gives n overview of how we can use the SeqIO module"
   ]
  },
  {
   "cell_type": "code",
   "execution_count": null,
   "metadata": {
    "tags": [
     "outputPrepend"
    ]
   },
   "outputs": [],
   "source": [
    "# to read every sequence in a given file, the for...loop comes in handy however,\n",
    "# if its one sequence its advisable to just use SeqRecord.read('filename', 'fileType') method\n",
    "\n",
    "covid = SeqIO.parse('400 Zim hCoV Genome Sequences.fasta', 'fasta')\n",
    "for seq_record in covid:\n",
    "    print (seq_record.id)\n",
    "    print (repr(seq_record.seq))\n",
    "    print (len(seq_record))"
   ]
  },
  {
   "cell_type": "code",
   "execution_count": null,
   "metadata": {},
   "outputs": [],
   "source": [
    "for seq_record in SeqIO.parse('ls_orchid.gbk', 'genbank'):\n",
    "    print (seq_record.id)\n",
    "    print (repr(seq_record.seq))\n",
    "    print (len(seq_record))"
   ]
  },
  {
   "cell_type": "code",
   "execution_count": 2,
   "metadata": {},
   "outputs": [
    {
     "output_type": "execute_result",
     "data": {
      "text/plain": [
       "SeqRecord(seq=Seq('ATTAAAGGTTTATACCTTCCCAGGTAACAAACCAACCAACTTTCGATCTCTTGT...AAA'), id='hCoV-19/Wuhan/WIV04/2019|EPI_ISL_402124|2019-12-30', name='hCoV-19/Wuhan/WIV04/2019|EPI_ISL_402124|2019-12-30', description='hCoV-19/Wuhan/WIV04/2019|EPI_ISL_402124|2019-12-30', dbxrefs=[])"
      ]
     },
     "metadata": {},
     "execution_count": 2
    }
   ],
   "source": [
    "# when the sequence file has mulitple records, but you only want the first one,\n",
    "# the following code is very concise:\n",
    "from Bio import SeqIO\n",
    "first_record = next(SeqIO.parse('400 Zim hCoV Genome Sequences.fasta', 'fasta'))\n",
    "first_record"
   ]
  },
  {
   "cell_type": "code",
   "execution_count": null,
   "metadata": {},
   "outputs": [],
   "source": [
    "# Suppose you want to access the seq records in random order, the for...loop is non-ideal\n",
    "from Bio import SeqIO\n",
    "records = list(SeqIO.parse('ls_orchid.gbk', 'genbank'))\n",
    "print ('Found %i records' % len(records))\n",
    "print ('The last record')\n",
    "last_record = records [-1]  #using Python's tricks\n",
    "print(last_record.id)\n",
    "print(repr(last_record.seq))\n",
    "print(len(last_record))\n",
    "\n",
    "print('The first record')\n",
    "first_record = records[0] #remember, python counts from ero\n",
    "print (first_record.id)\n",
    "print (repr(first_record.seq))\n",
    "print (len(first_record))\n"
   ]
  },
  {
   "cell_type": "code",
   "execution_count": null,
   "metadata": {},
   "outputs": [],
   "source": [
    "from Bio import SeqIO\n",
    "record_iterator = SeqIO.parse('ls_orchid.gbk','genbank')\n",
    "first_record = next(record_iterator)\n",
    "print(first_record.annotations.values())\n",
    "\n",
    "print(first_record.annotations.keys())\n",
    "\n",
    "print(first_record.annotations)\n",
    "print(first_record.annotations['source'])"
   ]
  },
  {
   "cell_type": "code",
   "execution_count": null,
   "metadata": {},
   "outputs": [],
   "source": [
    "# You can access online databases to fetch sequences, however for reuse it is aadvisable to download the sequences first\n",
    "from Bio import Entrez\n",
    "from Bio import SeqIO\n",
    "Entrez.email = 'mskambarami@gmail.com'\n",
    "with Entrez.efetch (db='nucleotide', rettype = 'gb', retmode = 'text', id = '6273291') as handle:\n",
    "    seq_record = SeqIO.read(handle, 'gb')\n",
    "print ('%s with %i features' % (seq_record.id, len(seq_record.features)))\n"
   ]
  },
  {
   "cell_type": "code",
   "execution_count": null,
   "metadata": {},
   "outputs": [],
   "source": [
    "# Writing to a file name:\n",
    "from Bio import SeqIO\n",
    "SeqIO.write (first_record, 'writingfas.faa', 'fasta')"
   ]
  },
  {
   "cell_type": "code",
   "execution_count": null,
   "metadata": {},
   "outputs": [],
   "source": [
    "# Converting between sequence formats\n",
    "\n",
    "from Bio import SeqIO\n",
    "records = SeqIO.parse ('ls_orchid.gbk', 'genbank')\n",
    "count = SeqIO.write (records, 'format_converted.fasta', 'fasta')\n",
    "print (f'Converted {count} records')"
   ]
  },
  {
   "cell_type": "code",
   "execution_count": null,
   "metadata": {},
   "outputs": [],
   "source": [
    "# because this is a very common task there is a .convert function in Biopython\n",
    "# as a shortcut\n",
    "from Bio import SeqIO\n",
    "count = SeqIO.convert ('ls_orchid.gbk', 'genbank','formatconvert.fasta','fasta')\n",
    "print (f' Converted {count} records')"
   ]
  },
  {
   "cell_type": "code",
   "execution_count": null,
   "metadata": {},
   "outputs": [],
   "source": [
    "help(SeqIO.convert)"
   ]
  },
  {
   "cell_type": "code",
   "execution_count": null,
   "metadata": {},
   "outputs": [],
   "source": []
  }
 ],
 "metadata": {
  "kernelspec": {
   "name": "python392jvsc74a57bd011f1dc213e07634baa4c5c321dec03c05dafae643c50f20e6d1a492290c05dc2",
   "display_name": "Python 3.9.2 64-bit"
  },
  "language_info": {
   "codemirror_mode": {
    "name": "ipython",
    "version": 3
   },
   "file_extension": ".py",
   "mimetype": "text/x-python",
   "name": "python",
   "nbconvert_exporter": "python",
   "pygments_lexer": "ipython3",
   "version": "3.9.2-final"
  },
  "metadata": {
   "interpreter": {
    "hash": "11f1dc213e07634baa4c5c321dec03c05dafae643c50f20e6d1a492290c05dc2"
   }
  }
 },
 "nbformat": 4,
 "nbformat_minor": 4
}